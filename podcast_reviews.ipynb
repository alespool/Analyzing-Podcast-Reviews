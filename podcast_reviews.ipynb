{
 "cells": [
  {
   "cell_type": "markdown",
   "metadata": {},
   "source": [
    "# Podcast Review using SQL and Pandas\n",
    "\n",
    "In this notebook, we delve into the \"Podcast Reviews\" dataset, a comprehensive collection of 2 million podcast reviews covering 100,000 unique podcasts. Updated monthly, this dataset offers a treasure trove of text feedback and review data that we can use to gain insights into listener opinions, preferences, and sentiments.\n",
    "\n",
    "The analysis will go through these 3 steps: \n",
    "\n",
    "- Load and explore the \"Podcast Reviews\" dataset.\n",
    "- Visualize the dataset.\n",
    "- Perform statistical inference "
   ]
  },
  {
   "cell_type": "code",
   "execution_count": null,
   "metadata": {
    "is_executing": true
   },
   "outputs": [],
   "source": [
    "import pandas as pd\n",
    "import numpy as np\n",
    "import scipy.stats\n",
    "import matplotlib.pyplot as plt\n",
    "import duckdb\n",
    "import sqlite\n"
   ]
  }
 ],
 "metadata": {
  "language_info": {
   "name": "python"
  },
  "orig_nbformat": 4
 },
 "nbformat": 4,
 "nbformat_minor": 2
}
